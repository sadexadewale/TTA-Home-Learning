{
 "cells": [
  {
   "cell_type": "code",
   "execution_count": 1,
   "metadata": {},
   "outputs": [
    {
     "name": "stdout",
     "output_type": "stream",
     "text": [
      "hello world\n"
     ]
    }
   ],
   "source": [
    "print(\"hello world\")"
   ]
  },
  {
   "cell_type": "code",
   "execution_count": 2,
   "metadata": {},
   "outputs": [],
   "source": [
    "import random"
   ]
  },
  {
   "cell_type": "code",
   "execution_count": 10,
   "metadata": {},
   "outputs": [],
   "source": [
    "random_number=(\"select a random number from the random library\")"
   ]
  },
  {
   "cell_type": "markdown",
   "metadata": {},
   "source": [
    "name=input(\"Enter your name:\")"
   ]
  },
  {
   "cell_type": "code",
   "execution_count": 3,
   "metadata": {},
   "outputs": [],
   "source": [
    "Guess_number=input(\"Guess a number between 1,10:\")"
   ]
  },
  {
   "cell_type": "code",
   "execution_count": 16,
   "metadata": {},
   "outputs": [
    {
     "ename": "SyntaxError",
     "evalue": "invalid syntax. Perhaps you forgot a comma? (Temp/ipykernel_20356/1715512664.py, line 1)",
     "output_type": "error",
     "traceback": [
      "\u001b[1;36m  File \u001b[1;32m\"C:\\Users\\Sade\\AppData\\Local\\Temp/ipykernel_20356/1715512664.py\"\u001b[1;36m, line \u001b[1;32m1\u001b[0m\n\u001b[1;33m    If Guess_number==random_number:\u001b[0m\n\u001b[1;37m    ^\u001b[0m\n\u001b[1;31mSyntaxError\u001b[0m\u001b[1;31m:\u001b[0m invalid syntax. Perhaps you forgot a comma?\n"
     ]
    }
   ],
   "source": [
    "If Guess_number==random_number\n",
    "    print(\"You got it right! Well done\")\n",
    "    Else(\"You got it wrong\")"
   ]
  },
  {
   "cell_type": "code",
   "execution_count": 28,
   "metadata": {},
   "outputs": [
    {
     "ename": "SyntaxError",
     "evalue": "invalid syntax (Temp/ipykernel_20356/2531430154.py, line 3)",
     "output_type": "error",
     "traceback": [
      "\u001b[1;36m  File \u001b[1;32m\"C:\\Users\\Sade\\AppData\\Local\\Temp/ipykernel_20356/2531430154.py\"\u001b[1;36m, line \u001b[1;32m3\u001b[0m\n\u001b[1;33m    if + Guess_number + is 1,30:\u001b[0m\n\u001b[1;37m                        ^\u001b[0m\n\u001b[1;31mSyntaxError\u001b[0m\u001b[1;31m:\u001b[0m invalid syntax\n"
     ]
    }
   ],
   "source": [
    "print(\"Hello, please guess a number between 1,100\")\n",
    "Guess_number=input(\"Guess_number:\")\n",
    "if + Guess_number + is 1,30:\n",
    "    print(\"my pet snake is exactly 3.14 metres long. He is a python\")\n",
    "Elif + Guess_number + is 31,60: \n",
    "    print(\"I got a three foot long ruler at a yard sale\")\n",
    "Elif + Guess_number + is 61,100:\n",
    "    print (\"I saw a radioactive cat it has eighteen half lives\")"
   ]
  },
  {
   "cell_type": "code",
   "execution_count": 34,
   "metadata": {},
   "outputs": [
    {
     "name": "stdout",
     "output_type": "stream",
     "text": [
      "Hello,what is your favourite starter\n",
      "What is your favourite Main\n",
      "What is your favourite Dessert\n"
     ]
    }
   ],
   "source": [
    "print(\"Hello,what is your favourite starter\")\n",
    "starter = input(\"Enter your  starter:\")\n",
    "print(\"What is your favourite Main\")\n",
    "Main = input(\"Enter your Main:\")\n",
    "print(\"What is your favourite Dessert\")\n",
    "Dessert= input(\"Enter your Dessert:\")\n",
    "print(\"What is your favourite Drink\")\n",
    "Drink = input(\"Enter your Drink:\")\n",
    "\n",
    "print (\" your favourite meal is\" + starter + main + dessert + \"with a glass of\" + drink)\n"
   ]
  },
  {
   "cell_type": "code",
   "execution_count": null,
   "metadata": {},
   "outputs": [],
   "source": [
    "Motorbike=2000\n",
    "while Motorbike>1000\n",
    "    print Motorbike= Motorbike*0.9\n",
    "    print (\"car is now less than 1000\")"
   ]
  },
  {
   "cell_type": "code",
   "execution_count": null,
   "metadata": {},
   "outputs": [],
   "source": [
    "Print (\"Hello\")\n",
    "num1 = float(input(\"Enter a number:\"))\n",
    "num2 = float(input(\"Enter a second number:\"))\n",
    "Operator = ( Enter an operator )\n",
    "if op = \"+\":\n",
    "    print (num1+num2)\n",
    "elif op = \"-\":\n",
    "    print (num1-num2)\n",
    "elif op = \"/\":\n",
    "    print (num1/num2)\n",
    "elif op = \"*\":\n",
    "    print (num1*num2)\n",
    "elif op = \"**\":\n",
    "    print (num1**num2)"
   ]
  }
 ],
 "metadata": {
  "interpreter": {
   "hash": "8edb8fd369f49a03ac35f16bf836a01a66c9a266756083671a1268e17b160cae"
  },
  "kernelspec": {
   "display_name": "Python 3.10.0 64-bit",
   "language": "python",
   "name": "python3"
  },
  "language_info": {
   "codemirror_mode": {
    "name": "ipython",
    "version": 3
   },
   "file_extension": ".py",
   "mimetype": "text/x-python",
   "name": "python",
   "nbconvert_exporter": "python",
   "pygments_lexer": "ipython3",
   "version": "3.10.0"
  },
  "orig_nbformat": 4
 },
 "nbformat": 4,
 "nbformat_minor": 2
}
